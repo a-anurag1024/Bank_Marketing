{
 "cells": [
  {
   "cell_type": "code",
   "execution_count": 1,
   "metadata": {},
   "outputs": [],
   "source": [
    "import tensorflow as tf"
   ]
  },
  {
   "cell_type": "code",
   "execution_count": 2,
   "metadata": {},
   "outputs": [],
   "source": [
    "import numpy as np\n",
    "\n",
    "X = np.load('../mount/Data_Manipulation_datasets/processed_X.npy')\n",
    "Y = np.load('../mount/Data_Manipulation_datasets/processed_Y.npy')"
   ]
  },
  {
   "cell_type": "code",
   "execution_count": 3,
   "metadata": {},
   "outputs": [
    {
     "data": {
      "text/html": [
       "<pre style=\"white-space:pre;overflow-x:auto;line-height:normal;font-family:Menlo,'DejaVu Sans Mono',consolas,'Courier New',monospace\"><span style=\"font-weight: bold\">Model: \"sequential\"</span>\n",
       "</pre>\n"
      ],
      "text/plain": [
       "\u001b[1mModel: \"sequential\"\u001b[0m\n"
      ]
     },
     "metadata": {},
     "output_type": "display_data"
    },
    {
     "data": {
      "text/html": [
       "<pre style=\"white-space:pre;overflow-x:auto;line-height:normal;font-family:Menlo,'DejaVu Sans Mono',consolas,'Courier New',monospace\">┏━━━━━━━━━━━━━━━━━━━━━━━━━━━━━━━━━┳━━━━━━━━━━━━━━━━━━━━━━━━┳━━━━━━━━━━━━━━━┓\n",
       "┃<span style=\"font-weight: bold\"> Layer (type)                    </span>┃<span style=\"font-weight: bold\"> Output Shape           </span>┃<span style=\"font-weight: bold\">       Param # </span>┃\n",
       "┡━━━━━━━━━━━━━━━━━━━━━━━━━━━━━━━━━╇━━━━━━━━━━━━━━━━━━━━━━━━╇━━━━━━━━━━━━━━━┩\n",
       "│ dense (<span style=\"color: #0087ff; text-decoration-color: #0087ff\">Dense</span>)                   │ (<span style=\"color: #00d7ff; text-decoration-color: #00d7ff\">None</span>, <span style=\"color: #00af00; text-decoration-color: #00af00\">128</span>)            │         <span style=\"color: #00af00; text-decoration-color: #00af00\">7,808</span> │\n",
       "├─────────────────────────────────┼────────────────────────┼───────────────┤\n",
       "│ dense_1 (<span style=\"color: #0087ff; text-decoration-color: #0087ff\">Dense</span>)                 │ (<span style=\"color: #00d7ff; text-decoration-color: #00d7ff\">None</span>, <span style=\"color: #00af00; text-decoration-color: #00af00\">32</span>)             │         <span style=\"color: #00af00; text-decoration-color: #00af00\">4,128</span> │\n",
       "├─────────────────────────────────┼────────────────────────┼───────────────┤\n",
       "│ dense_2 (<span style=\"color: #0087ff; text-decoration-color: #0087ff\">Dense</span>)                 │ (<span style=\"color: #00d7ff; text-decoration-color: #00d7ff\">None</span>, <span style=\"color: #00af00; text-decoration-color: #00af00\">4</span>)              │           <span style=\"color: #00af00; text-decoration-color: #00af00\">132</span> │\n",
       "├─────────────────────────────────┼────────────────────────┼───────────────┤\n",
       "│ dense_3 (<span style=\"color: #0087ff; text-decoration-color: #0087ff\">Dense</span>)                 │ (<span style=\"color: #00d7ff; text-decoration-color: #00d7ff\">None</span>, <span style=\"color: #00af00; text-decoration-color: #00af00\">2</span>)              │            <span style=\"color: #00af00; text-decoration-color: #00af00\">10</span> │\n",
       "└─────────────────────────────────┴────────────────────────┴───────────────┘\n",
       "</pre>\n"
      ],
      "text/plain": [
       "┏━━━━━━━━━━━━━━━━━━━━━━━━━━━━━━━━━┳━━━━━━━━━━━━━━━━━━━━━━━━┳━━━━━━━━━━━━━━━┓\n",
       "┃\u001b[1m \u001b[0m\u001b[1mLayer (type)                   \u001b[0m\u001b[1m \u001b[0m┃\u001b[1m \u001b[0m\u001b[1mOutput Shape          \u001b[0m\u001b[1m \u001b[0m┃\u001b[1m \u001b[0m\u001b[1m      Param #\u001b[0m\u001b[1m \u001b[0m┃\n",
       "┡━━━━━━━━━━━━━━━━━━━━━━━━━━━━━━━━━╇━━━━━━━━━━━━━━━━━━━━━━━━╇━━━━━━━━━━━━━━━┩\n",
       "│ dense (\u001b[38;5;33mDense\u001b[0m)                   │ (\u001b[38;5;45mNone\u001b[0m, \u001b[38;5;34m128\u001b[0m)            │         \u001b[38;5;34m7,808\u001b[0m │\n",
       "├─────────────────────────────────┼────────────────────────┼───────────────┤\n",
       "│ dense_1 (\u001b[38;5;33mDense\u001b[0m)                 │ (\u001b[38;5;45mNone\u001b[0m, \u001b[38;5;34m32\u001b[0m)             │         \u001b[38;5;34m4,128\u001b[0m │\n",
       "├─────────────────────────────────┼────────────────────────┼───────────────┤\n",
       "│ dense_2 (\u001b[38;5;33mDense\u001b[0m)                 │ (\u001b[38;5;45mNone\u001b[0m, \u001b[38;5;34m4\u001b[0m)              │           \u001b[38;5;34m132\u001b[0m │\n",
       "├─────────────────────────────────┼────────────────────────┼───────────────┤\n",
       "│ dense_3 (\u001b[38;5;33mDense\u001b[0m)                 │ (\u001b[38;5;45mNone\u001b[0m, \u001b[38;5;34m2\u001b[0m)              │            \u001b[38;5;34m10\u001b[0m │\n",
       "└─────────────────────────────────┴────────────────────────┴───────────────┘\n"
      ]
     },
     "metadata": {},
     "output_type": "display_data"
    },
    {
     "data": {
      "text/html": [
       "<pre style=\"white-space:pre;overflow-x:auto;line-height:normal;font-family:Menlo,'DejaVu Sans Mono',consolas,'Courier New',monospace\"><span style=\"font-weight: bold\"> Total params: </span><span style=\"color: #00af00; text-decoration-color: #00af00\">12,078</span> (47.18 KB)\n",
       "</pre>\n"
      ],
      "text/plain": [
       "\u001b[1m Total params: \u001b[0m\u001b[38;5;34m12,078\u001b[0m (47.18 KB)\n"
      ]
     },
     "metadata": {},
     "output_type": "display_data"
    },
    {
     "data": {
      "text/html": [
       "<pre style=\"white-space:pre;overflow-x:auto;line-height:normal;font-family:Menlo,'DejaVu Sans Mono',consolas,'Courier New',monospace\"><span style=\"font-weight: bold\"> Trainable params: </span><span style=\"color: #00af00; text-decoration-color: #00af00\">12,078</span> (47.18 KB)\n",
       "</pre>\n"
      ],
      "text/plain": [
       "\u001b[1m Trainable params: \u001b[0m\u001b[38;5;34m12,078\u001b[0m (47.18 KB)\n"
      ]
     },
     "metadata": {},
     "output_type": "display_data"
    },
    {
     "data": {
      "text/html": [
       "<pre style=\"white-space:pre;overflow-x:auto;line-height:normal;font-family:Menlo,'DejaVu Sans Mono',consolas,'Courier New',monospace\"><span style=\"font-weight: bold\"> Non-trainable params: </span><span style=\"color: #00af00; text-decoration-color: #00af00\">0</span> (0.00 B)\n",
       "</pre>\n"
      ],
      "text/plain": [
       "\u001b[1m Non-trainable params: \u001b[0m\u001b[38;5;34m0\u001b[0m (0.00 B)\n"
      ]
     },
     "metadata": {},
     "output_type": "display_data"
    }
   ],
   "source": [
    "model = tf.keras.models.Sequential([\n",
    "    tf.keras.Input(shape=(60,)),\n",
    "    tf.keras.layers.Dense(128, activation='relu', kernel_regularizer=tf.keras.regularizers.l2(0.01)),\n",
    "    tf.keras.layers.Dense(32, activation='relu', kernel_regularizer=tf.keras.regularizers.l2(0.01)),\n",
    "    tf.keras.layers.Dense(4, activation='relu', kernel_regularizer=tf.keras.regularizers.l2(0.01)),\n",
    "    tf.keras.layers.Dense(2, activation='sigmoid', kernel_regularizer=tf.keras.regularizers.l2(0.01))\n",
    "])\n",
    "\n",
    "model.summary()"
   ]
  },
  {
   "cell_type": "code",
   "execution_count": 9,
   "metadata": {},
   "outputs": [],
   "source": [
    "from sklearn.metrics import precision_score, recall_score\n",
    "model.compile(optimizer='adam', \n",
    "              loss=tf.keras.losses.SparseCategoricalCrossentropy(), \n",
    "              metrics=[ 'accuracy', tf.keras.metrics.Precision(class_id=0), tf.keras.metrics.Recall(class_id=0)])"
   ]
  },
  {
   "cell_type": "code",
   "execution_count": 11,
   "metadata": {},
   "outputs": [
    {
     "name": "stdout",
     "output_type": "stream",
     "text": [
      "Epoch 1/50\n",
      "824/824 - 4s - 5ms/step - accuracy: 0.9123 - loss: 0.2454 - precision_1: 0.8520 - recall_1: 0.0678 - val_accuracy: 0.9079 - val_loss: 0.2529 - val_precision_1: 0.8600 - val_recall_1: 0.0679\n",
      "Epoch 2/50\n",
      "824/824 - 1s - 1ms/step - accuracy: 0.9128 - loss: 0.2455 - precision_1: 0.8712 - recall_1: 0.0671 - val_accuracy: 0.9080 - val_loss: 0.2531 - val_precision_1: 0.8627 - val_recall_1: 0.0879\n",
      "Epoch 3/50\n",
      "824/824 - 1s - 1ms/step - accuracy: 0.9120 - loss: 0.2456 - precision_1: 0.8975 - recall_1: 0.0702 - val_accuracy: 0.9089 - val_loss: 0.2515 - val_precision_1: 0.8711 - val_recall_1: 0.0677\n",
      "Epoch 4/50\n",
      "824/824 - 1s - 2ms/step - accuracy: 0.9114 - loss: 0.2452 - precision_1: 0.8674 - recall_1: 0.0680 - val_accuracy: 0.9047 - val_loss: 0.2555 - val_precision_1: 0.8626 - val_recall_1: 0.0900\n",
      "Epoch 5/50\n",
      "824/824 - 1s - 2ms/step - accuracy: 0.9113 - loss: 0.2456 - precision_1: 0.8668 - recall_1: 0.0685 - val_accuracy: 0.9086 - val_loss: 0.2516 - val_precision_1: 0.8616 - val_recall_1: 0.0807\n",
      "Epoch 6/50\n",
      "824/824 - 1s - 1ms/step - accuracy: 0.9121 - loss: 0.2458 - precision_1: 0.8834 - recall_1: 0.0680 - val_accuracy: 0.9083 - val_loss: 0.2519 - val_precision_1: 0.8586 - val_recall_1: 0.0745\n",
      "Epoch 7/50\n",
      "824/824 - 1s - 2ms/step - accuracy: 0.9120 - loss: 0.2455 - precision_1: 0.9241 - recall_1: 0.0699 - val_accuracy: 0.9080 - val_loss: 0.2515 - val_precision_1: 0.8632 - val_recall_1: 0.0665\n",
      "Epoch 8/50\n",
      "824/824 - 1s - 1ms/step - accuracy: 0.9122 - loss: 0.2456 - precision_1: 0.8784 - recall_1: 0.0673 - val_accuracy: 0.9085 - val_loss: 0.2522 - val_precision_1: 0.8632 - val_recall_1: 0.0741\n",
      "Epoch 9/50\n",
      "824/824 - 1s - 1ms/step - accuracy: 0.9117 - loss: 0.2451 - precision_1: 0.8660 - recall_1: 0.0656 - val_accuracy: 0.9098 - val_loss: 0.2525 - val_precision_1: 0.8642 - val_recall_1: 0.0758\n",
      "Epoch 10/50\n",
      "824/824 - 1s - 1ms/step - accuracy: 0.9121 - loss: 0.2454 - precision_1: 0.8931 - recall_1: 0.0669 - val_accuracy: 0.9095 - val_loss: 0.2555 - val_precision_1: 0.8729 - val_recall_1: 0.0878\n",
      "Epoch 11/50\n",
      "824/824 - 1s - 1ms/step - accuracy: 0.9121 - loss: 0.2449 - precision_1: 0.8637 - recall_1: 0.0672 - val_accuracy: 0.9039 - val_loss: 0.2576 - val_precision_1: 0.8670 - val_recall_1: 0.0541\n",
      "Epoch 12/50\n",
      "824/824 - 1s - 1ms/step - accuracy: 0.9120 - loss: 0.2452 - precision_1: 0.8912 - recall_1: 0.0700 - val_accuracy: 0.9071 - val_loss: 0.2535 - val_precision_1: 0.8656 - val_recall_1: 0.0556\n",
      "Epoch 13/50\n",
      "824/824 - 1s - 1ms/step - accuracy: 0.9120 - loss: 0.2455 - precision_1: 0.8937 - recall_1: 0.0676 - val_accuracy: 0.9062 - val_loss: 0.2545 - val_precision_1: 0.8662 - val_recall_1: 0.0593\n",
      "Epoch 14/50\n",
      "824/824 - 1s - 2ms/step - accuracy: 0.9119 - loss: 0.2452 - precision_1: 0.8473 - recall_1: 0.0673 - val_accuracy: 0.9066 - val_loss: 0.2533 - val_precision_1: 0.8668 - val_recall_1: 0.0574\n",
      "Epoch 15/50\n",
      "824/824 - 2s - 2ms/step - accuracy: 0.9123 - loss: 0.2453 - precision_1: 0.8807 - recall_1: 0.0676 - val_accuracy: 0.9094 - val_loss: 0.2523 - val_precision_1: 0.8584 - val_recall_1: 0.0817\n",
      "Epoch 16/50\n",
      "824/824 - 1s - 2ms/step - accuracy: 0.9126 - loss: 0.2453 - precision_1: 0.8788 - recall_1: 0.0686 - val_accuracy: 0.9095 - val_loss: 0.2523 - val_precision_1: 0.8595 - val_recall_1: 0.0719\n",
      "Epoch 17/50\n",
      "824/824 - 1s - 2ms/step - accuracy: 0.9122 - loss: 0.2452 - precision_1: 0.8552 - recall_1: 0.0675 - val_accuracy: 0.9082 - val_loss: 0.2519 - val_precision_1: 0.8667 - val_recall_1: 0.0696\n",
      "Epoch 18/50\n",
      "824/824 - 1s - 2ms/step - accuracy: 0.9125 - loss: 0.2450 - precision_1: 0.8725 - recall_1: 0.0679 - val_accuracy: 0.9044 - val_loss: 0.2556 - val_precision_1: 0.8655 - val_recall_1: 0.0589\n",
      "Epoch 19/50\n",
      "824/824 - 2s - 2ms/step - accuracy: 0.9112 - loss: 0.2452 - precision_1: 0.9017 - recall_1: 0.0687 - val_accuracy: 0.9074 - val_loss: 0.2526 - val_precision_1: 0.8667 - val_recall_1: 0.0584\n",
      "Epoch 20/50\n",
      "824/824 - 2s - 3ms/step - accuracy: 0.9119 - loss: 0.2450 - precision_1: 0.8495 - recall_1: 0.0672 - val_accuracy: 0.9074 - val_loss: 0.2522 - val_precision_1: 0.8624 - val_recall_1: 0.0682\n",
      "Epoch 21/50\n",
      "824/824 - 3s - 3ms/step - accuracy: 0.9118 - loss: 0.2446 - precision_1: 0.8692 - recall_1: 0.0676 - val_accuracy: 0.9073 - val_loss: 0.2522 - val_precision_1: 0.8571 - val_recall_1: 0.0653\n",
      "Epoch 22/50\n",
      "824/824 - 6s - 8ms/step - accuracy: 0.9125 - loss: 0.2452 - precision_1: 0.8737 - recall_1: 0.0675 - val_accuracy: 0.9080 - val_loss: 0.2519 - val_precision_1: 0.8619 - val_recall_1: 0.0712\n",
      "Epoch 23/50\n",
      "824/824 - 2s - 3ms/step - accuracy: 0.9125 - loss: 0.2450 - precision_1: 0.8902 - recall_1: 0.0685 - val_accuracy: 0.9053 - val_loss: 0.2533 - val_precision_1: 0.8561 - val_recall_1: 0.0627\n",
      "Epoch 24/50\n",
      "824/824 - 2s - 3ms/step - accuracy: 0.9112 - loss: 0.2456 - precision_1: 0.8701 - recall_1: 0.0677 - val_accuracy: 0.9088 - val_loss: 0.2519 - val_precision_1: 0.8600 - val_recall_1: 0.0658\n",
      "Epoch 25/50\n",
      "824/824 - 2s - 3ms/step - accuracy: 0.9117 - loss: 0.2450 - precision_1: 0.8710 - recall_1: 0.0684 - val_accuracy: 0.9071 - val_loss: 0.2527 - val_precision_1: 0.8732 - val_recall_1: 0.0643\n",
      "Epoch 26/50\n",
      "824/824 - 3s - 3ms/step - accuracy: 0.9127 - loss: 0.2447 - precision_1: 0.8760 - recall_1: 0.0678 - val_accuracy: 0.9083 - val_loss: 0.2541 - val_precision_1: 0.8678 - val_recall_1: 0.0885\n",
      "Epoch 27/50\n",
      "824/824 - 3s - 3ms/step - accuracy: 0.9122 - loss: 0.2453 - precision_1: 0.8599 - recall_1: 0.0670 - val_accuracy: 0.9074 - val_loss: 0.2517 - val_precision_1: 0.8587 - val_recall_1: 0.0682\n",
      "Epoch 28/50\n",
      "824/824 - 2s - 3ms/step - accuracy: 0.9131 - loss: 0.2448 - precision_1: 0.8883 - recall_1: 0.0690 - val_accuracy: 0.9092 - val_loss: 0.2522 - val_precision_1: 0.8605 - val_recall_1: 0.0767\n",
      "Epoch 29/50\n",
      "824/824 - 4s - 4ms/step - accuracy: 0.9128 - loss: 0.2448 - precision_1: 0.8837 - recall_1: 0.0686 - val_accuracy: 0.9076 - val_loss: 0.2522 - val_precision_1: 0.8618 - val_recall_1: 0.0689\n",
      "Epoch 30/50\n",
      "824/824 - 3s - 3ms/step - accuracy: 0.9135 - loss: 0.2448 - precision_1: 0.8609 - recall_1: 0.0672 - val_accuracy: 0.9077 - val_loss: 0.2523 - val_precision_1: 0.8656 - val_recall_1: 0.0834\n",
      "Epoch 31/50\n",
      "824/824 - 2s - 3ms/step - accuracy: 0.9117 - loss: 0.2450 - precision_1: 0.8676 - recall_1: 0.0688 - val_accuracy: 0.9076 - val_loss: 0.2515 - val_precision_1: 0.8600 - val_recall_1: 0.0679\n",
      "Epoch 32/50\n",
      "824/824 - 3s - 4ms/step - accuracy: 0.9122 - loss: 0.2451 - precision_1: 0.8787 - recall_1: 0.0681 - val_accuracy: 0.9074 - val_loss: 0.2520 - val_precision_1: 0.8595 - val_recall_1: 0.0719\n",
      "Epoch 33/50\n",
      "824/824 - 3s - 3ms/step - accuracy: 0.9112 - loss: 0.2448 - precision_1: 0.8814 - recall_1: 0.0675 - val_accuracy: 0.9080 - val_loss: 0.2540 - val_precision_1: 0.8717 - val_recall_1: 0.0575\n",
      "Epoch 34/50\n",
      "824/824 - 3s - 4ms/step - accuracy: 0.9121 - loss: 0.2450 - precision_1: 0.8767 - recall_1: 0.0682 - val_accuracy: 0.9085 - val_loss: 0.2519 - val_precision_1: 0.8629 - val_recall_1: 0.0783\n",
      "Epoch 35/50\n",
      "824/824 - 2s - 3ms/step - accuracy: 0.9115 - loss: 0.2451 - precision_1: 0.8418 - recall_1: 0.0678 - val_accuracy: 0.9091 - val_loss: 0.2527 - val_precision_1: 0.8668 - val_recall_1: 0.0843\n",
      "Epoch 36/50\n",
      "824/824 - 2s - 3ms/step - accuracy: 0.9114 - loss: 0.2448 - precision_1: 0.8602 - recall_1: 0.0681 - val_accuracy: 0.9068 - val_loss: 0.2517 - val_precision_1: 0.8664 - val_recall_1: 0.0739\n",
      "Epoch 37/50\n",
      "824/824 - 2s - 3ms/step - accuracy: 0.9115 - loss: 0.2449 - precision_1: 0.8833 - recall_1: 0.0676 - val_accuracy: 0.9086 - val_loss: 0.2530 - val_precision_1: 0.8606 - val_recall_1: 0.0672\n",
      "Epoch 38/50\n",
      "824/824 - 2s - 2ms/step - accuracy: 0.9111 - loss: 0.2452 - precision_1: 0.8811 - recall_1: 0.0674 - val_accuracy: 0.9112 - val_loss: 0.2535 - val_precision_1: 0.8636 - val_recall_1: 0.0897\n",
      "Epoch 39/50\n",
      "824/824 - 3s - 3ms/step - accuracy: 0.9122 - loss: 0.2449 - precision_1: 0.8705 - recall_1: 0.0684 - val_accuracy: 0.9077 - val_loss: 0.2522 - val_precision_1: 0.8599 - val_recall_1: 0.0764\n",
      "Epoch 40/50\n",
      "824/824 - 6s - 7ms/step - accuracy: 0.9122 - loss: 0.2452 - precision_1: 0.8668 - recall_1: 0.0681 - val_accuracy: 0.9059 - val_loss: 0.2551 - val_precision_1: 0.8696 - val_recall_1: 0.0553\n",
      "Epoch 41/50\n",
      "824/824 - 3s - 4ms/step - accuracy: 0.9120 - loss: 0.2449 - precision_1: 0.8726 - recall_1: 0.0694 - val_accuracy: 0.9066 - val_loss: 0.2524 - val_precision_1: 0.8559 - val_recall_1: 0.0667\n",
      "Epoch 42/50\n",
      "824/824 - 1s - 1ms/step - accuracy: 0.9110 - loss: 0.2452 - precision_1: 0.8687 - recall_1: 0.0689 - val_accuracy: 0.9089 - val_loss: 0.2516 - val_precision_1: 0.8552 - val_recall_1: 0.0745\n",
      "Epoch 43/50\n",
      "824/824 - 2s - 2ms/step - accuracy: 0.9115 - loss: 0.2451 - precision_1: 0.8956 - recall_1: 0.0695 - val_accuracy: 0.9107 - val_loss: 0.2523 - val_precision_1: 0.8616 - val_recall_1: 0.0720\n",
      "Epoch 44/50\n",
      "824/824 - 1s - 2ms/step - accuracy: 0.9115 - loss: 0.2450 - precision_1: 0.8794 - recall_1: 0.0681 - val_accuracy: 0.9079 - val_loss: 0.2540 - val_precision_1: 0.8593 - val_recall_1: 0.0581\n",
      "Epoch 45/50\n",
      "824/824 - 1s - 1ms/step - accuracy: 0.9129 - loss: 0.2448 - precision_1: 0.8499 - recall_1: 0.0687 - val_accuracy: 0.9073 - val_loss: 0.2544 - val_precision_1: 0.8622 - val_recall_1: 0.0594\n",
      "Epoch 46/50\n",
      "824/824 - 2s - 2ms/step - accuracy: 0.9118 - loss: 0.2451 - precision_1: 0.8819 - recall_1: 0.0683 - val_accuracy: 0.9094 - val_loss: 0.2528 - val_precision_1: 0.8629 - val_recall_1: 0.0783\n",
      "Epoch 47/50\n",
      "824/824 - 1s - 2ms/step - accuracy: 0.9118 - loss: 0.2448 - precision_1: 0.8692 - recall_1: 0.0679 - val_accuracy: 0.9076 - val_loss: 0.2523 - val_precision_1: 0.8640 - val_recall_1: 0.0834\n",
      "Epoch 48/50\n",
      "824/824 - 1s - 1ms/step - accuracy: 0.9118 - loss: 0.2449 - precision_1: 0.8684 - recall_1: 0.0693 - val_accuracy: 0.9080 - val_loss: 0.2541 - val_precision_1: 0.8655 - val_recall_1: 0.0589\n",
      "Epoch 49/50\n",
      "824/824 - 1s - 1ms/step - accuracy: 0.9119 - loss: 0.2452 - precision_1: 0.8757 - recall_1: 0.0675 - val_accuracy: 0.9086 - val_loss: 0.2529 - val_precision_1: 0.8581 - val_recall_1: 0.0878\n",
      "Epoch 50/50\n",
      "824/824 - 1s - 1ms/step - accuracy: 0.9127 - loss: 0.2450 - precision_1: 0.8911 - recall_1: 0.0689 - val_accuracy: 0.9074 - val_loss: 0.2530 - val_precision_1: 0.8630 - val_recall_1: 0.0838\n"
     ]
    }
   ],
   "source": [
    "epoch = 50 \n",
    "\n",
    "history = model.fit(X, Y, \n",
    "                    epochs=epoch, \n",
    "                    validation_split=0.2,\n",
    "                    verbose=2)"
   ]
  },
  {
   "cell_type": "markdown",
   "metadata": {},
   "source": [
    "#### functions for running metric and saving the model"
   ]
  },
  {
   "cell_type": "code",
   "execution_count": 67,
   "metadata": {},
   "outputs": [],
   "source": [
    "import tensorflow as tf \n",
    "from sklearn.model_selection import train_test_split \n",
    "from sklearn.metrics import confusion_matrix, roc_auc_score, roc_curve, precision_recall_curve, auc\n",
    "import matplotlib.pyplot as plt\n",
    "import os\n",
    "\n",
    "def evaluation_metrics(Y, Y_pred, Y_prob, save_plots_dir=None):\n",
    "    tp, fn, fp, tn = confusion_matrix(Y, Y_pred).ravel()\n",
    "    precision = tp / (tp + fp)\n",
    "    recall = tp / (tp + fn)\n",
    "    f1 = 2 * precision * recall / (precision + recall)\n",
    "    accuracy = (tp + tn) / (tp + fn + fp + tn)\n",
    "    AUC = roc_auc_score(Y, Y_prob[:, 1])\n",
    "    \n",
    "    print(\"||>> Precision: \", precision)\n",
    "    print(\"||>> Recall: \", recall)\n",
    "    print(\"||>> F1: \", f1)\n",
    "    print(\"||>> Accuracy: \", accuracy)\n",
    "    print(\"||>> AUC: \", AUC)\n",
    "    \n",
    "    # ROC curve\n",
    "    fpr, tpr, thresholds = roc_curve(Y, Y_prob[:, 1])\n",
    "    plt.plot(fpr, tpr)\n",
    "    plt.xlabel('False Positive Rate (1 - Specificity)')\n",
    "    plt.ylabel('True Positive Rate (Sensitivity)')\n",
    "    plt.title('ROC Curve')\n",
    "    if save_plots_dir:\n",
    "        plt.savefig(os.path.join(save_plots_dir, 'roc_curve.png'))\n",
    "    else:\n",
    "        plt.show()\n",
    "    \n",
    "    # Precision-Recall curve\n",
    "    precisions, recalls, thresholds = precision_recall_curve(Y, Y_prob[:, 0], pos_label=0)\n",
    "    plt.cla()\n",
    "    plt.plot(recalls, precisions)\n",
    "    plt.xlabel('Recall')\n",
    "    plt.ylabel('Precision')\n",
    "    plt.title('Precision-Recall curve') \n",
    "    if save_plots_dir:\n",
    "        plt.savefig(os.path.join(save_plots_dir, 'precision_recall_curve.png'))\n",
    "    else:\n",
    "        plt.show()\n",
    "    \n",
    "    AUPRC = auc(recalls, precisions)\n",
    "    print(\"||>> AUPRC: \", AUPRC)\n",
    "    \n",
    "    return precision, recall, f1, accuracy, AUC, AUPRC\n",
    "\n",
    "\n",
    "def save_model_and_performance(model, X, Y, model_name, if_test_data_provided=False):\n",
    "    model_dir = os.path.join('../mount/trained_models', model_name)\n",
    "    os.makedirs(model_dir)\n",
    "    model.save('../mount/trained_models/{}/model.keras'.format(model_name))\n",
    "    \n",
    "    if if_test_data_provided:\n",
    "        X_test, Y_test = X, Y\n",
    "    else:\n",
    "        _, X_test, _, Y_test = train_test_split(X, Y, test_size=0.2)\n",
    "    \n",
    "    Y_prob = model.predict(X_test)\n",
    "    Y_pred = np.argmax(Y_prob, axis=1)\n",
    "    \n",
    "    precision, recall, f1, accuracy, AUC, AUPRC = evaluation_metrics(Y_test, Y_pred, Y_prob, save_plots_dir=model_dir)\n",
    "    with open(os.path.join(model_dir, 'metrics.txt'), 'w') as f:\n",
    "        f.write(\"Precision: {}\\n\".format(precision))\n",
    "        f.write(\"Recall: {}\\n\".format(recall))\n",
    "        f.write(\"F1: {}\\n\".format(f1))\n",
    "        f.write(\"Accuracy: {}\\n\".format(accuracy))\n",
    "        f.write(\"AUC: {}\\n\".format(AUC))\n",
    "        f.write(\"AUPRC: {}\\n\".format(AUPRC))"
   ]
  },
  {
   "cell_type": "markdown",
   "metadata": {},
   "source": [
    "#### checking and saving the model"
   ]
  },
  {
   "cell_type": "code",
   "execution_count": 24,
   "metadata": {},
   "outputs": [
    {
     "name": "stdout",
     "output_type": "stream",
     "text": [
      "\u001b[1m206/206\u001b[0m \u001b[32m━━━━━━━━━━━━━━━━━━━━\u001b[0m\u001b[37m\u001b[0m \u001b[1m0s\u001b[0m 1ms/step\n",
      "||>> Precision:  0.6148282097649186\n",
      "||>> Recall:  0.47752808988764045\n",
      "||>> F1:  0.5375494071146244\n",
      "||>> Accuracy:  0.9112021857923497\n",
      "||>> AUC:  0.9394113409336015\n",
      "||>> AUPRC:  0.6313264901749839\n"
     ]
    },
    {
     "data": {
      "image/png": "[encoded data removed]",
      "text/plain": [
       "<Figure size 640x480 with 1 Axes>"
      ]
     },
     "metadata": {},
     "output_type": "display_data"
    }
   ],
   "source": [
    "model_name = \"NN_1\"\n",
    "save_model_and_performance(model, X, Y, model_name)"
   ]
  },
  {
   "cell_type": "markdown",
   "metadata": {},
   "source": [
    "**Take-away** : - Even NN is showing similar performance as the different ML models, even slightly worses than the XG-Boost model"
   ]
  },
  {
   "cell_type": "markdown",
   "metadata": {},
   "source": [
    "# Approach 2: Train the model with even number of samples from each class"
   ]
  },
  {
   "cell_type": "code",
   "execution_count": 27,
   "metadata": {},
   "outputs": [
    {
     "data": {
      "text/html": [
       "<pre style=\"white-space:pre;overflow-x:auto;line-height:normal;font-family:Menlo,'DejaVu Sans Mono',consolas,'Courier New',monospace\"><span style=\"font-weight: bold\">Model: \"sequential_2\"</span>\n",
       "</pre>\n"
      ],
      "text/plain": [
       "\u001b[1mModel: \"sequential_2\"\u001b[0m\n"
      ]
     },
     "metadata": {},
     "output_type": "display_data"
    },
    {
     "data": {
      "text/html": [
       "<pre style=\"white-space:pre;overflow-x:auto;line-height:normal;font-family:Menlo,'DejaVu Sans Mono',consolas,'Courier New',monospace\">┏━━━━━━━━━━━━━━━━━━━━━━━━━━━━━━━━━┳━━━━━━━━━━━━━━━━━━━━━━━━┳━━━━━━━━━━━━━━━┓\n",
       "┃<span style=\"font-weight: bold\"> Layer (type)                    </span>┃<span style=\"font-weight: bold\"> Output Shape           </span>┃<span style=\"font-weight: bold\">       Param # </span>┃\n",
       "┡━━━━━━━━━━━━━━━━━━━━━━━━━━━━━━━━━╇━━━━━━━━━━━━━━━━━━━━━━━━╇━━━━━━━━━━━━━━━┩\n",
       "│ dense_8 (<span style=\"color: #0087ff; text-decoration-color: #0087ff\">Dense</span>)                 │ (<span style=\"color: #00d7ff; text-decoration-color: #00d7ff\">None</span>, <span style=\"color: #00af00; text-decoration-color: #00af00\">128</span>)            │         <span style=\"color: #00af00; text-decoration-color: #00af00\">7,808</span> │\n",
       "├─────────────────────────────────┼────────────────────────┼───────────────┤\n",
       "│ dense_9 (<span style=\"color: #0087ff; text-decoration-color: #0087ff\">Dense</span>)                 │ (<span style=\"color: #00d7ff; text-decoration-color: #00d7ff\">None</span>, <span style=\"color: #00af00; text-decoration-color: #00af00\">32</span>)             │         <span style=\"color: #00af00; text-decoration-color: #00af00\">4,128</span> │\n",
       "├─────────────────────────────────┼────────────────────────┼───────────────┤\n",
       "│ dense_10 (<span style=\"color: #0087ff; text-decoration-color: #0087ff\">Dense</span>)                │ (<span style=\"color: #00d7ff; text-decoration-color: #00d7ff\">None</span>, <span style=\"color: #00af00; text-decoration-color: #00af00\">4</span>)              │           <span style=\"color: #00af00; text-decoration-color: #00af00\">132</span> │\n",
       "├─────────────────────────────────┼────────────────────────┼───────────────┤\n",
       "│ dense_11 (<span style=\"color: #0087ff; text-decoration-color: #0087ff\">Dense</span>)                │ (<span style=\"color: #00d7ff; text-decoration-color: #00d7ff\">None</span>, <span style=\"color: #00af00; text-decoration-color: #00af00\">2</span>)              │            <span style=\"color: #00af00; text-decoration-color: #00af00\">10</span> │\n",
       "└─────────────────────────────────┴────────────────────────┴───────────────┘\n",
       "</pre>\n"
      ],
      "text/plain": [
       "┏━━━━━━━━━━━━━━━━━━━━━━━━━━━━━━━━━┳━━━━━━━━━━━━━━━━━━━━━━━━┳━━━━━━━━━━━━━━━┓\n",
       "┃\u001b[1m \u001b[0m\u001b[1mLayer (type)                   \u001b[0m\u001b[1m \u001b[0m┃\u001b[1m \u001b[0m\u001b[1mOutput Shape          \u001b[0m\u001b[1m \u001b[0m┃\u001b[1m \u001b[0m\u001b[1m      Param #\u001b[0m\u001b[1m \u001b[0m┃\n",
       "┡━━━━━━━━━━━━━━━━━━━━━━━━━━━━━━━━━╇━━━━━━━━━━━━━━━━━━━━━━━━╇━━━━━━━━━━━━━━━┩\n",
       "│ dense_8 (\u001b[38;5;33mDense\u001b[0m)                 │ (\u001b[38;5;45mNone\u001b[0m, \u001b[38;5;34m128\u001b[0m)            │         \u001b[38;5;34m7,808\u001b[0m │\n",
       "├─────────────────────────────────┼────────────────────────┼───────────────┤\n",
       "│ dense_9 (\u001b[38;5;33mDense\u001b[0m)                 │ (\u001b[38;5;45mNone\u001b[0m, \u001b[38;5;34m32\u001b[0m)             │         \u001b[38;5;34m4,128\u001b[0m │\n",
       "├─────────────────────────────────┼────────────────────────┼───────────────┤\n",
       "│ dense_10 (\u001b[38;5;33mDense\u001b[0m)                │ (\u001b[38;5;45mNone\u001b[0m, \u001b[38;5;34m4\u001b[0m)              │           \u001b[38;5;34m132\u001b[0m │\n",
       "├─────────────────────────────────┼────────────────────────┼───────────────┤\n",
       "│ dense_11 (\u001b[38;5;33mDense\u001b[0m)                │ (\u001b[38;5;45mNone\u001b[0m, \u001b[38;5;34m2\u001b[0m)              │            \u001b[38;5;34m10\u001b[0m │\n",
       "└─────────────────────────────────┴────────────────────────┴───────────────┘\n"
      ]
     },
     "metadata": {},
     "output_type": "display_data"
    },
    {
     "data": {
      "text/html": [
       "<pre style=\"white-space:pre;overflow-x:auto;line-height:normal;font-family:Menlo,'DejaVu Sans Mono',consolas,'Courier New',monospace\"><span style=\"font-weight: bold\"> Total params: </span><span style=\"color: #00af00; text-decoration-color: #00af00\">12,078</span> (47.18 KB)\n",
       "</pre>\n"
      ],
      "text/plain": [
       "\u001b[1m Total params: \u001b[0m\u001b[38;5;34m12,078\u001b[0m (47.18 KB)\n"
      ]
     },
     "metadata": {},
     "output_type": "display_data"
    },
    {
     "data": {
      "text/html": [
       "<pre style=\"white-space:pre;overflow-x:auto;line-height:normal;font-family:Menlo,'DejaVu Sans Mono',consolas,'Courier New',monospace\"><span style=\"font-weight: bold\"> Trainable params: </span><span style=\"color: #00af00; text-decoration-color: #00af00\">12,078</span> (47.18 KB)\n",
       "</pre>\n"
      ],
      "text/plain": [
       "\u001b[1m Trainable params: \u001b[0m\u001b[38;5;34m12,078\u001b[0m (47.18 KB)\n"
      ]
     },
     "metadata": {},
     "output_type": "display_data"
    },
    {
     "data": {
      "text/html": [
       "<pre style=\"white-space:pre;overflow-x:auto;line-height:normal;font-family:Menlo,'DejaVu Sans Mono',consolas,'Courier New',monospace\"><span style=\"font-weight: bold\"> Non-trainable params: </span><span style=\"color: #00af00; text-decoration-color: #00af00\">0</span> (0.00 B)\n",
       "</pre>\n"
      ],
      "text/plain": [
       "\u001b[1m Non-trainable params: \u001b[0m\u001b[38;5;34m0\u001b[0m (0.00 B)\n"
      ]
     },
     "metadata": {},
     "output_type": "display_data"
    }
   ],
   "source": [
    "# Same model architecture to be used \n",
    "import tensorflow as tf \n",
    "\n",
    "model = tf.keras.models.Sequential([\n",
    "    tf.keras.Input(shape=(60,)),\n",
    "    tf.keras.layers.Dense(128, activation='relu', kernel_regularizer=tf.keras.regularizers.l2(0.01)),\n",
    "    tf.keras.layers.Dense(32, activation='relu', kernel_regularizer=tf.keras.regularizers.l2(0.01)),\n",
    "    tf.keras.layers.Dense(4, activation='relu', kernel_regularizer=tf.keras.regularizers.l2(0.01)),\n",
    "    tf.keras.layers.Dense(2, activation='sigmoid', kernel_regularizer=tf.keras.regularizers.l2(0.01))\n",
    "])\n",
    "\n",
    "model.summary()\n",
    "\n",
    "model.compile(optimizer='adam', \n",
    "              loss=tf.keras.losses.SparseCategoricalCrossentropy(), \n",
    "              metrics=[ 'accuracy', tf.keras.metrics.Precision(class_id=0), tf.keras.metrics.Recall(class_id=0)])"
   ]
  },
  {
   "cell_type": "code",
   "execution_count": 70,
   "metadata": {},
   "outputs": [
    {
     "name": "stdout",
     "output_type": "stream",
     "text": [
      "187/187 - 0s - 2ms/step - accuracy: 0.8875 - loss: 0.3666 - precision_2: 0.4468 - recall_2: 0.5841 - val_accuracy: 0.8341 - val_loss: 0.4258 - val_precision_2: 1.0000 - val_recall_2: 0.1629\n",
      "|| >> End of epoch 0 << ||\n",
      "187/187 - 0s - 2ms/step - accuracy: 0.8808 - loss: 0.3762 - precision_2: 0.4407 - recall_2: 0.5811 - val_accuracy: 0.8084 - val_loss: 0.4815 - val_precision_2: 1.0000 - val_recall_2: 0.1855\n",
      "|| >> End of epoch 1 << ||\n",
      "187/187 - 0s - 2ms/step - accuracy: 0.8800 - loss: 0.3752 - precision_2: 0.3932 - recall_2: 0.5863 - val_accuracy: 0.8235 - val_loss: 0.4610 - val_precision_2: 1.0000 - val_recall_2: 0.1689\n",
      "|| >> End of epoch 2 << ||\n",
      "187/187 - 0s - 2ms/step - accuracy: 0.8825 - loss: 0.3680 - precision_2: 0.4392 - recall_2: 0.5896 - val_accuracy: 0.8356 - val_loss: 0.4390 - val_precision_2: 1.0000 - val_recall_2: 0.1614\n",
      "|| >> End of epoch 3 << ||\n",
      "187/187 - 0s - 2ms/step - accuracy: 0.8850 - loss: 0.3700 - precision_2: 0.4761 - recall_2: 0.5868 - val_accuracy: 0.8507 - val_loss: 0.3897 - val_precision_2: 1.0000 - val_recall_2: 0.1448\n",
      "|| >> End of epoch 4 << ||\n",
      "187/187 - 0s - 2ms/step - accuracy: 0.8883 - loss: 0.3670 - precision_2: 0.5037 - recall_2: 0.5884 - val_accuracy: 0.8326 - val_loss: 0.4337 - val_precision_2: 1.0000 - val_recall_2: 0.1659\n",
      "|| >> End of epoch 5 << ||\n",
      "187/187 - 0s - 2ms/step - accuracy: 0.8890 - loss: 0.3576 - precision_2: 0.4002 - recall_2: 0.5883 - val_accuracy: 0.8446 - val_loss: 0.3855 - val_precision_2: 1.0000 - val_recall_2: 0.1478\n",
      "|| >> End of epoch 6 << ||\n",
      "187/187 - 1s - 3ms/step - accuracy: 0.8899 - loss: 0.3555 - precision_2: 0.3944 - recall_2: 0.5752 - val_accuracy: 0.7843 - val_loss: 0.5032 - val_precision_2: 1.0000 - val_recall_2: 0.2066\n",
      "|| >> End of epoch 7 << ||\n",
      "187/187 - 0s - 2ms/step - accuracy: 0.8845 - loss: 0.3630 - precision_2: 0.4077 - recall_2: 0.5791 - val_accuracy: 0.7949 - val_loss: 0.5098 - val_precision_2: 1.0000 - val_recall_2: 0.2006\n",
      "|| >> End of epoch 8 << ||\n",
      "187/187 - 0s - 2ms/step - accuracy: 0.8852 - loss: 0.3667 - precision_2: 0.3946 - recall_2: 0.5761 - val_accuracy: 0.8084 - val_loss: 0.4792 - val_precision_2: 1.0000 - val_recall_2: 0.1870\n",
      "|| >> End of epoch 9 << ||\n",
      "187/187 - 1s - 3ms/step - accuracy: 0.8823 - loss: 0.3616 - precision_2: 0.4317 - recall_2: 0.5749 - val_accuracy: 0.8100 - val_loss: 0.4804 - val_precision_2: 1.0000 - val_recall_2: 0.1885\n",
      "|| >> End of epoch 10 << ||\n",
      "187/187 - 0s - 2ms/step - accuracy: 0.8860 - loss: 0.3621 - precision_2: 0.4949 - recall_2: 0.5835 - val_accuracy: 0.8431 - val_loss: 0.4034 - val_precision_2: 1.0000 - val_recall_2: 0.1523\n",
      "|| >> End of epoch 11 << ||\n",
      "187/187 - 0s - 2ms/step - accuracy: 0.8825 - loss: 0.3691 - precision_2: 0.4247 - recall_2: 0.5981 - val_accuracy: 0.8265 - val_loss: 0.4320 - val_precision_2: 1.0000 - val_recall_2: 0.1704\n",
      "|| >> End of epoch 12 << ||\n",
      "187/187 - 0s - 3ms/step - accuracy: 0.8786 - loss: 0.3780 - precision_2: 0.4939 - recall_2: 0.5877 - val_accuracy: 0.8069 - val_loss: 0.5197 - val_precision_2: 1.0000 - val_recall_2: 0.1931\n",
      "|| >> End of epoch 13 << ||\n",
      "187/187 - 1s - 3ms/step - accuracy: 0.8872 - loss: 0.3613 - precision_2: 0.4592 - recall_2: 0.5946 - val_accuracy: 0.8205 - val_loss: 0.4776 - val_precision_2: 1.0000 - val_recall_2: 0.1735\n",
      "|| >> End of epoch 14 << ||\n",
      "187/187 - 0s - 3ms/step - accuracy: 0.8811 - loss: 0.3645 - precision_2: 0.5227 - recall_2: 0.5849 - val_accuracy: 0.8492 - val_loss: 0.3858 - val_precision_2: 1.0000 - val_recall_2: 0.1478\n",
      "|| >> End of epoch 15 << ||\n",
      "187/187 - 0s - 2ms/step - accuracy: 0.8920 - loss: 0.3558 - precision_2: 0.4247 - recall_2: 0.5682 - val_accuracy: 0.8643 - val_loss: 0.3993 - val_precision_2: 1.0000 - val_recall_2: 0.1342\n",
      "|| >> End of epoch 16 << ||\n",
      "187/187 - 1s - 4ms/step - accuracy: 0.8805 - loss: 0.3702 - precision_2: 0.3765 - recall_2: 0.5770 - val_accuracy: 0.8462 - val_loss: 0.4103 - val_precision_2: 1.0000 - val_recall_2: 0.1463\n",
      "|| >> End of epoch 17 << ||\n",
      "187/187 - 1s - 3ms/step - accuracy: 0.8865 - loss: 0.3609 - precision_2: 0.4217 - recall_2: 0.5878 - val_accuracy: 0.8567 - val_loss: 0.3606 - val_precision_2: 1.0000 - val_recall_2: 0.1403\n",
      "|| >> End of epoch 18 << ||\n",
      "187/187 - 0s - 2ms/step - accuracy: 0.8843 - loss: 0.3684 - precision_2: 0.4146 - recall_2: 0.5742 - val_accuracy: 0.8115 - val_loss: 0.4492 - val_precision_2: 1.0000 - val_recall_2: 0.1870\n",
      "|| >> End of epoch 19 << ||\n",
      "187/187 - 1s - 3ms/step - accuracy: 0.8867 - loss: 0.3604 - precision_2: 0.4441 - recall_2: 0.5805 - val_accuracy: 0.8265 - val_loss: 0.4536 - val_precision_2: 1.0000 - val_recall_2: 0.1735\n",
      "|| >> End of epoch 20 << ||\n",
      "187/187 - 0s - 2ms/step - accuracy: 0.8838 - loss: 0.3635 - precision_2: 0.4329 - recall_2: 0.5916 - val_accuracy: 0.8341 - val_loss: 0.4119 - val_precision_2: 1.0000 - val_recall_2: 0.1629\n",
      "|| >> End of epoch 21 << ||\n",
      "187/187 - 1s - 3ms/step - accuracy: 0.8863 - loss: 0.3618 - precision_2: 0.5133 - recall_2: 0.5775 - val_accuracy: 0.8582 - val_loss: 0.3969 - val_precision_2: 1.0000 - val_recall_2: 0.1418\n",
      "|| >> End of epoch 22 << ||\n",
      "187/187 - 1s - 4ms/step - accuracy: 0.8828 - loss: 0.3725 - precision_2: 0.4431 - recall_2: 0.5809 - val_accuracy: 0.8341 - val_loss: 0.4146 - val_precision_2: 1.0000 - val_recall_2: 0.1659\n",
      "|| >> End of epoch 23 << ||\n",
      "187/187 - 0s - 2ms/step - accuracy: 0.8785 - loss: 0.3728 - precision_2: 0.4101 - recall_2: 0.5886 - val_accuracy: 0.8311 - val_loss: 0.4317 - val_precision_2: 1.0000 - val_recall_2: 0.1689\n",
      "|| >> End of epoch 24 << ||\n",
      "187/187 - 0s - 2ms/step - accuracy: 0.8878 - loss: 0.3612 - precision_2: 0.4541 - recall_2: 0.5769 - val_accuracy: 0.7994 - val_loss: 0.4987 - val_precision_2: 1.0000 - val_recall_2: 0.1976\n",
      "|| >> End of epoch 25 << ||\n",
      "187/187 - 0s - 2ms/step - accuracy: 0.8833 - loss: 0.3697 - precision_2: 0.3903 - recall_2: 0.5750 - val_accuracy: 0.8190 - val_loss: 0.4631 - val_precision_2: 1.0000 - val_recall_2: 0.1810\n",
      "|| >> End of epoch 26 << ||\n",
      "187/187 - 0s - 2ms/step - accuracy: 0.8840 - loss: 0.3670 - precision_2: 0.3795 - recall_2: 0.5717 - val_accuracy: 0.8296 - val_loss: 0.4488 - val_precision_2: 1.0000 - val_recall_2: 0.1689\n",
      "|| >> End of epoch 27 << ||\n",
      "187/187 - 0s - 2ms/step - accuracy: 0.8969 - loss: 0.3490 - precision_2: 0.4040 - recall_2: 0.5751 - val_accuracy: 0.8446 - val_loss: 0.4305 - val_precision_2: 1.0000 - val_recall_2: 0.1508\n",
      "|| >> End of epoch 28 << ||\n",
      "187/187 - 1s - 4ms/step - accuracy: 0.8821 - loss: 0.3674 - precision_2: 0.4472 - recall_2: 0.5827 - val_accuracy: 0.8069 - val_loss: 0.4906 - val_precision_2: 1.0000 - val_recall_2: 0.1916\n",
      "|| >> End of epoch 29 << ||\n",
      "187/187 - 1s - 4ms/step - accuracy: 0.8878 - loss: 0.3620 - precision_2: 0.4480 - recall_2: 0.5754 - val_accuracy: 0.8371 - val_loss: 0.4428 - val_precision_2: 1.0000 - val_recall_2: 0.1599\n",
      "|| >> End of epoch 30 << ||\n",
      "187/187 - 1s - 3ms/step - accuracy: 0.8878 - loss: 0.3577 - precision_2: 0.4203 - recall_2: 0.5840 - val_accuracy: 0.8341 - val_loss: 0.4351 - val_precision_2: 1.0000 - val_recall_2: 0.1644\n",
      "|| >> End of epoch 31 << ||\n",
      "187/187 - 0s - 2ms/step - accuracy: 0.8959 - loss: 0.3518 - precision_2: 0.4312 - recall_2: 0.5691 - val_accuracy: 0.8250 - val_loss: 0.4751 - val_precision_2: 1.0000 - val_recall_2: 0.1735\n",
      "|| >> End of epoch 32 << ||\n",
      "187/187 - 1s - 3ms/step - accuracy: 0.8877 - loss: 0.3611 - precision_2: 0.3860 - recall_2: 0.5766 - val_accuracy: 0.8386 - val_loss: 0.4432 - val_precision_2: 1.0000 - val_recall_2: 0.1614\n",
      "|| >> End of epoch 33 << ||\n",
      "187/187 - 1s - 3ms/step - accuracy: 0.8880 - loss: 0.3621 - precision_2: 0.4028 - recall_2: 0.5749 - val_accuracy: 0.8793 - val_loss: 0.3261 - val_precision_2: 1.0000 - val_recall_2: 0.1192\n",
      "|| >> End of epoch 34 << ||\n",
      "187/187 - 0s - 2ms/step - accuracy: 0.8808 - loss: 0.3695 - precision_2: 0.5312 - recall_2: 0.5854 - val_accuracy: 0.8084 - val_loss: 0.4683 - val_precision_2: 1.0000 - val_recall_2: 0.1900\n",
      "|| >> End of epoch 35 << ||\n",
      "187/187 - 1s - 3ms/step - accuracy: 0.8867 - loss: 0.3613 - precision_2: 0.4855 - recall_2: 0.5839 - val_accuracy: 0.8205 - val_loss: 0.4391 - val_precision_2: 1.0000 - val_recall_2: 0.1795\n",
      "|| >> End of epoch 36 << ||\n",
      "187/187 - 1s - 4ms/step - accuracy: 0.8848 - loss: 0.3664 - precision_2: 0.4770 - recall_2: 0.5887 - val_accuracy: 0.8356 - val_loss: 0.4519 - val_precision_2: 1.0000 - val_recall_2: 0.1629\n",
      "|| >> End of epoch 37 << ||\n",
      "187/187 - 1s - 4ms/step - accuracy: 0.8882 - loss: 0.3548 - precision_2: 0.4163 - recall_2: 0.5713 - val_accuracy: 0.8386 - val_loss: 0.4378 - val_precision_2: 1.0000 - val_recall_2: 0.1599\n",
      "|| >> End of epoch 38 << ||\n",
      "187/187 - 1s - 4ms/step - accuracy: 0.8825 - loss: 0.3643 - precision_2: 0.4122 - recall_2: 0.5849 - val_accuracy: 0.8175 - val_loss: 0.4704 - val_precision_2: 1.0000 - val_recall_2: 0.1825\n",
      "|| >> End of epoch 39 << ||\n",
      "187/187 - 1s - 3ms/step - accuracy: 0.8890 - loss: 0.3547 - precision_2: 0.4456 - recall_2: 0.5838 - val_accuracy: 0.8431 - val_loss: 0.4062 - val_precision_2: 1.0000 - val_recall_2: 0.1554\n",
      "|| >> End of epoch 40 << ||\n",
      "187/187 - 1s - 3ms/step - accuracy: 0.8845 - loss: 0.3579 - precision_2: 0.4182 - recall_2: 0.5797 - val_accuracy: 0.8220 - val_loss: 0.4261 - val_precision_2: 1.0000 - val_recall_2: 0.1780\n",
      "|| >> End of epoch 41 << ||\n",
      "187/187 - 0s - 2ms/step - accuracy: 0.8847 - loss: 0.3595 - precision_2: 0.5286 - recall_2: 0.5904 - val_accuracy: 0.8416 - val_loss: 0.4214 - val_precision_2: 1.0000 - val_recall_2: 0.1584\n",
      "|| >> End of epoch 42 << ||\n",
      "187/187 - 0s - 2ms/step - accuracy: 0.8904 - loss: 0.3570 - precision_2: 0.4184 - recall_2: 0.5878 - val_accuracy: 0.8175 - val_loss: 0.4682 - val_precision_2: 1.0000 - val_recall_2: 0.1825\n",
      "|| >> End of epoch 43 << ||\n",
      "187/187 - 0s - 2ms/step - accuracy: 0.8788 - loss: 0.3696 - precision_2: 0.4279 - recall_2: 0.5957 - val_accuracy: 0.8009 - val_loss: 0.4889 - val_precision_2: 1.0000 - val_recall_2: 0.1991\n",
      "|| >> End of epoch 44 << ||\n",
      "187/187 - 0s - 2ms/step - accuracy: 0.8904 - loss: 0.3567 - precision_2: 0.4384 - recall_2: 0.5815 - val_accuracy: 0.8115 - val_loss: 0.4733 - val_precision_2: 1.0000 - val_recall_2: 0.1885\n",
      "|| >> End of epoch 45 << ||\n",
      "187/187 - 0s - 2ms/step - accuracy: 0.8860 - loss: 0.3657 - precision_2: 0.4318 - recall_2: 0.5855 - val_accuracy: 0.8311 - val_loss: 0.4546 - val_precision_2: 1.0000 - val_recall_2: 0.1689\n",
      "|| >> End of epoch 46 << ||\n",
      "187/187 - 1s - 3ms/step - accuracy: 0.8867 - loss: 0.3612 - precision_2: 0.4146 - recall_2: 0.5754 - val_accuracy: 0.8250 - val_loss: 0.4308 - val_precision_2: 1.0000 - val_recall_2: 0.1750\n",
      "|| >> End of epoch 47 << ||\n",
      "187/187 - 1s - 3ms/step - accuracy: 0.8805 - loss: 0.3756 - precision_2: 0.4036 - recall_2: 0.5881 - val_accuracy: 0.8567 - val_loss: 0.4143 - val_precision_2: 1.0000 - val_recall_2: 0.1433\n",
      "|| >> End of epoch 48 << ||\n",
      "187/187 - 0s - 3ms/step - accuracy: 0.8912 - loss: 0.3513 - precision_2: 0.3992 - recall_2: 0.5847 - val_accuracy: 0.8100 - val_loss: 0.5030 - val_precision_2: 1.0000 - val_recall_2: 0.1900\n",
      "|| >> End of epoch 49 << ||\n",
      "187/187 - 0s - 2ms/step - accuracy: 0.8912 - loss: 0.3595 - precision_2: 0.5030 - recall_2: 0.5793 - val_accuracy: 0.8296 - val_loss: 0.4333 - val_precision_2: 1.0000 - val_recall_2: 0.1704\n",
      "|| >> End of epoch 50 << ||\n",
      "187/187 - 0s - 3ms/step - accuracy: 0.8855 - loss: 0.3648 - precision_2: 0.4674 - recall_2: 0.5834 - val_accuracy: 0.8477 - val_loss: 0.4121 - val_precision_2: 1.0000 - val_recall_2: 0.1523\n",
      "|| >> End of epoch 51 << ||\n",
      "187/187 - 1s - 3ms/step - accuracy: 0.8816 - loss: 0.3733 - precision_2: 0.3911 - recall_2: 0.5883 - val_accuracy: 0.8492 - val_loss: 0.4012 - val_precision_2: 1.0000 - val_recall_2: 0.1508\n",
      "|| >> End of epoch 52 << ||\n",
      "187/187 - 0s - 3ms/step - accuracy: 0.8882 - loss: 0.3534 - precision_2: 0.4716 - recall_2: 0.5837 - val_accuracy: 0.7979 - val_loss: 0.5159 - val_precision_2: 1.0000 - val_recall_2: 0.2021\n",
      "|| >> End of epoch 53 << ||\n",
      "187/187 - 1s - 3ms/step - accuracy: 0.8826 - loss: 0.3660 - precision_2: 0.4413 - recall_2: 0.5824 - val_accuracy: 0.8582 - val_loss: 0.3757 - val_precision_2: 1.0000 - val_recall_2: 0.1418\n",
      "|| >> End of epoch 54 << ||\n",
      "187/187 - 0s - 2ms/step - accuracy: 0.8848 - loss: 0.3645 - precision_2: 0.5103 - recall_2: 0.5822 - val_accuracy: 0.8084 - val_loss: 0.4854 - val_precision_2: 1.0000 - val_recall_2: 0.1916\n",
      "|| >> End of epoch 55 << ||\n",
      "187/187 - 0s - 3ms/step - accuracy: 0.8880 - loss: 0.3583 - precision_2: 0.4289 - recall_2: 0.5783 - val_accuracy: 0.8069 - val_loss: 0.4589 - val_precision_2: 1.0000 - val_recall_2: 0.1916\n",
      "|| >> End of epoch 56 << ||\n",
      "187/187 - 0s - 2ms/step - accuracy: 0.8858 - loss: 0.3654 - precision_2: 0.4901 - recall_2: 0.5815 - val_accuracy: 0.8311 - val_loss: 0.4200 - val_precision_2: 1.0000 - val_recall_2: 0.1689\n",
      "|| >> End of epoch 57 << ||\n",
      "187/187 - 0s - 2ms/step - accuracy: 0.8798 - loss: 0.3708 - precision_2: 0.4246 - recall_2: 0.5876 - val_accuracy: 0.8175 - val_loss: 0.4480 - val_precision_2: 1.0000 - val_recall_2: 0.1825\n",
      "|| >> End of epoch 58 << ||\n",
      "187/187 - 0s - 2ms/step - accuracy: 0.8833 - loss: 0.3699 - precision_2: 0.3858 - recall_2: 0.5813 - val_accuracy: 0.8145 - val_loss: 0.4416 - val_precision_2: 1.0000 - val_recall_2: 0.1855\n",
      "|| >> End of epoch 59 << ||\n",
      "187/187 - 0s - 2ms/step - accuracy: 0.8848 - loss: 0.3611 - precision_2: 0.3739 - recall_2: 0.5757 - val_accuracy: 0.8311 - val_loss: 0.4200 - val_precision_2: 1.0000 - val_recall_2: 0.1689\n",
      "|| >> End of epoch 60 << ||\n",
      "187/187 - 0s - 2ms/step - accuracy: 0.8870 - loss: 0.3563 - precision_2: 0.4199 - recall_2: 0.5752 - val_accuracy: 0.8250 - val_loss: 0.4416 - val_precision_2: 1.0000 - val_recall_2: 0.1750\n",
      "|| >> End of epoch 61 << ||\n",
      "187/187 - 0s - 2ms/step - accuracy: 0.8894 - loss: 0.3604 - precision_2: 0.3857 - recall_2: 0.5798 - val_accuracy: 0.8763 - val_loss: 0.3733 - val_precision_2: 1.0000 - val_recall_2: 0.1237\n",
      "|| >> End of epoch 62 << ||\n",
      "187/187 - 0s - 2ms/step - accuracy: 0.8914 - loss: 0.3509 - precision_2: 0.4228 - recall_2: 0.5764 - val_accuracy: 0.7798 - val_loss: 0.5285 - val_precision_2: 1.0000 - val_recall_2: 0.2202\n",
      "|| >> End of epoch 63 << ||\n",
      "187/187 - 0s - 2ms/step - accuracy: 0.8837 - loss: 0.3720 - precision_2: 0.4577 - recall_2: 0.5873 - val_accuracy: 0.8326 - val_loss: 0.4324 - val_precision_2: 1.0000 - val_recall_2: 0.1659\n",
      "|| >> End of epoch 64 << ||\n",
      "187/187 - 0s - 3ms/step - accuracy: 0.8863 - loss: 0.3626 - precision_2: 0.4098 - recall_2: 0.5795 - val_accuracy: 0.8220 - val_loss: 0.4370 - val_precision_2: 1.0000 - val_recall_2: 0.1780\n",
      "|| >> End of epoch 65 << ||\n",
      "187/187 - 0s - 2ms/step - accuracy: 0.8837 - loss: 0.3613 - precision_2: 0.3988 - recall_2: 0.5868 - val_accuracy: 0.8205 - val_loss: 0.4755 - val_precision_2: 1.0000 - val_recall_2: 0.1795\n",
      "|| >> End of epoch 66 << ||\n",
      "187/187 - 1s - 3ms/step - accuracy: 0.8803 - loss: 0.3681 - precision_2: 0.3771 - recall_2: 0.5762 - val_accuracy: 0.8673 - val_loss: 0.3625 - val_precision_2: 1.0000 - val_recall_2: 0.1327\n",
      "|| >> End of epoch 67 << ||\n",
      "187/187 - 0s - 3ms/step - accuracy: 0.8843 - loss: 0.3741 - precision_2: 0.4830 - recall_2: 0.5864 - val_accuracy: 0.8024 - val_loss: 0.5255 - val_precision_2: 1.0000 - val_recall_2: 0.1976\n",
      "|| >> End of epoch 68 << ||\n",
      "187/187 - 0s - 3ms/step - accuracy: 0.8842 - loss: 0.3603 - precision_2: 0.4822 - recall_2: 0.5972 - val_accuracy: 0.8537 - val_loss: 0.4249 - val_precision_2: 1.0000 - val_recall_2: 0.1448\n",
      "|| >> End of epoch 69 << ||\n",
      "187/187 - 1s - 3ms/step - accuracy: 0.8890 - loss: 0.3585 - precision_2: 0.3590 - recall_2: 0.5747 - val_accuracy: 0.8130 - val_loss: 0.4787 - val_precision_2: 1.0000 - val_recall_2: 0.1870\n",
      "|| >> End of epoch 70 << ||\n",
      "187/187 - 0s - 3ms/step - accuracy: 0.8833 - loss: 0.3671 - precision_2: 0.4337 - recall_2: 0.5763 - val_accuracy: 0.8477 - val_loss: 0.3948 - val_precision_2: 1.0000 - val_recall_2: 0.1523\n",
      "|| >> End of epoch 71 << ||\n",
      "187/187 - 0s - 3ms/step - accuracy: 0.8830 - loss: 0.3652 - precision_2: 0.4175 - recall_2: 0.5718 - val_accuracy: 0.8537 - val_loss: 0.4094 - val_precision_2: 1.0000 - val_recall_2: 0.1463\n",
      "|| >> End of epoch 72 << ||\n",
      "187/187 - 0s - 2ms/step - accuracy: 0.8930 - loss: 0.3494 - precision_2: 0.4424 - recall_2: 0.5960 - val_accuracy: 0.8341 - val_loss: 0.4696 - val_precision_2: 1.0000 - val_recall_2: 0.1659\n",
      "|| >> End of epoch 73 << ||\n",
      "187/187 - 0s - 2ms/step - accuracy: 0.8853 - loss: 0.3645 - precision_2: 0.4270 - recall_2: 0.5812 - val_accuracy: 0.8356 - val_loss: 0.4279 - val_precision_2: 1.0000 - val_recall_2: 0.1644\n",
      "|| >> End of epoch 74 << ||\n",
      "187/187 - 0s - 3ms/step - accuracy: 0.8820 - loss: 0.3680 - precision_2: 0.4372 - recall_2: 0.5794 - val_accuracy: 0.7949 - val_loss: 0.5011 - val_precision_2: 1.0000 - val_recall_2: 0.2051\n",
      "|| >> End of epoch 75 << ||\n",
      "187/187 - 0s - 3ms/step - accuracy: 0.8800 - loss: 0.3676 - precision_2: 0.4219 - recall_2: 0.5666 - val_accuracy: 0.8431 - val_loss: 0.4239 - val_precision_2: 1.0000 - val_recall_2: 0.1569\n",
      "|| >> End of epoch 76 << ||\n",
      "187/187 - 0s - 2ms/step - accuracy: 0.8813 - loss: 0.3637 - precision_2: 0.4644 - recall_2: 0.5888 - val_accuracy: 0.7873 - val_loss: 0.5222 - val_precision_2: 1.0000 - val_recall_2: 0.2127\n",
      "|| >> End of epoch 77 << ||\n",
      "187/187 - 0s - 2ms/step - accuracy: 0.8835 - loss: 0.3621 - precision_2: 0.3407 - recall_2: 0.5938 - val_accuracy: 0.8462 - val_loss: 0.4240 - val_precision_2: 1.0000 - val_recall_2: 0.1538\n",
      "|| >> End of epoch 78 << ||\n",
      "187/187 - 0s - 2ms/step - accuracy: 0.8895 - loss: 0.3516 - precision_2: 0.4336 - recall_2: 0.5900 - val_accuracy: 0.8190 - val_loss: 0.4351 - val_precision_2: 1.0000 - val_recall_2: 0.1810\n",
      "|| >> End of epoch 79 << ||\n",
      "187/187 - 0s - 2ms/step - accuracy: 0.8877 - loss: 0.3616 - precision_2: 0.4779 - recall_2: 0.5999 - val_accuracy: 0.8235 - val_loss: 0.4443 - val_precision_2: 1.0000 - val_recall_2: 0.1765\n",
      "|| >> End of epoch 80 << ||\n",
      "187/187 - 0s - 2ms/step - accuracy: 0.8811 - loss: 0.3751 - precision_2: 0.4074 - recall_2: 0.5870 - val_accuracy: 0.8281 - val_loss: 0.4491 - val_precision_2: 1.0000 - val_recall_2: 0.1719\n",
      "|| >> End of epoch 81 << ||\n",
      "187/187 - 0s - 2ms/step - accuracy: 0.8924 - loss: 0.3548 - precision_2: 0.4372 - recall_2: 0.5710 - val_accuracy: 0.8281 - val_loss: 0.4599 - val_precision_2: 1.0000 - val_recall_2: 0.1719\n",
      "|| >> End of epoch 82 << ||\n",
      "187/187 - 1s - 3ms/step - accuracy: 0.8877 - loss: 0.3609 - precision_2: 0.4573 - recall_2: 0.5824 - val_accuracy: 0.7722 - val_loss: 0.5483 - val_precision_2: 1.0000 - val_recall_2: 0.2278\n",
      "|| >> End of epoch 83 << ||\n",
      "187/187 - 1s - 3ms/step - accuracy: 0.8868 - loss: 0.3619 - precision_2: 0.4533 - recall_2: 0.5769 - val_accuracy: 0.8250 - val_loss: 0.4494 - val_precision_2: 1.0000 - val_recall_2: 0.1750\n",
      "|| >> End of epoch 84 << ||\n",
      "187/187 - 0s - 2ms/step - accuracy: 0.8853 - loss: 0.3594 - precision_2: 0.4447 - recall_2: 0.5807 - val_accuracy: 0.8356 - val_loss: 0.4376 - val_precision_2: 1.0000 - val_recall_2: 0.1644\n",
      "|| >> End of epoch 85 << ||\n",
      "187/187 - 0s - 2ms/step - accuracy: 0.8889 - loss: 0.3570 - precision_2: 0.4705 - recall_2: 0.5857 - val_accuracy: 0.8356 - val_loss: 0.4096 - val_precision_2: 1.0000 - val_recall_2: 0.1644\n",
      "|| >> End of epoch 86 << ||\n",
      "187/187 - 0s - 3ms/step - accuracy: 0.8813 - loss: 0.3658 - precision_2: 0.4101 - recall_2: 0.5938 - val_accuracy: 0.8069 - val_loss: 0.4923 - val_precision_2: 1.0000 - val_recall_2: 0.1931\n",
      "|| >> End of epoch 87 << ||\n",
      "187/187 - 0s - 2ms/step - accuracy: 0.8882 - loss: 0.3560 - precision_2: 0.4416 - recall_2: 0.5783 - val_accuracy: 0.8492 - val_loss: 0.4053 - val_precision_2: 1.0000 - val_recall_2: 0.1508\n",
      "|| >> End of epoch 88 << ||\n",
      "187/187 - 0s - 2ms/step - accuracy: 0.8860 - loss: 0.3624 - precision_2: 0.4299 - recall_2: 0.5954 - val_accuracy: 0.8145 - val_loss: 0.4744 - val_precision_2: 1.0000 - val_recall_2: 0.1855\n",
      "|| >> End of epoch 89 << ||\n",
      "187/187 - 0s - 2ms/step - accuracy: 0.8865 - loss: 0.3615 - precision_2: 0.3913 - recall_2: 0.5972 - val_accuracy: 0.8265 - val_loss: 0.4474 - val_precision_2: 1.0000 - val_recall_2: 0.1735\n",
      "|| >> End of epoch 90 << ||\n",
      "187/187 - 0s - 3ms/step - accuracy: 0.8858 - loss: 0.3670 - precision_2: 0.4463 - recall_2: 0.5785 - val_accuracy: 0.8296 - val_loss: 0.4656 - val_precision_2: 1.0000 - val_recall_2: 0.1704\n",
      "|| >> End of epoch 91 << ||\n",
      "187/187 - 0s - 2ms/step - accuracy: 0.8857 - loss: 0.3684 - precision_2: 0.4289 - recall_2: 0.5802 - val_accuracy: 0.7843 - val_loss: 0.5268 - val_precision_2: 1.0000 - val_recall_2: 0.2157\n",
      "|| >> End of epoch 92 << ||\n",
      "187/187 - 1s - 3ms/step - accuracy: 0.8894 - loss: 0.3585 - precision_2: 0.4136 - recall_2: 0.5850 - val_accuracy: 0.8688 - val_loss: 0.3816 - val_precision_2: 1.0000 - val_recall_2: 0.1312\n",
      "|| >> End of epoch 93 << ||\n",
      "187/187 - 0s - 2ms/step - accuracy: 0.8813 - loss: 0.3636 - precision_2: 0.5273 - recall_2: 0.5864 - val_accuracy: 0.8311 - val_loss: 0.4336 - val_precision_2: 1.0000 - val_recall_2: 0.1689\n",
      "|| >> End of epoch 94 << ||\n",
      "187/187 - 1s - 3ms/step - accuracy: 0.8892 - loss: 0.3625 - precision_2: 0.4569 - recall_2: 0.5848 - val_accuracy: 0.8100 - val_loss: 0.4947 - val_precision_2: 1.0000 - val_recall_2: 0.1900\n",
      "|| >> End of epoch 95 << ||\n",
      "187/187 - 0s - 2ms/step - accuracy: 0.8889 - loss: 0.3552 - precision_2: 0.4825 - recall_2: 0.5820 - val_accuracy: 0.8416 - val_loss: 0.4208 - val_precision_2: 1.0000 - val_recall_2: 0.1584\n",
      "|| >> End of epoch 96 << ||\n",
      "187/187 - 0s - 2ms/step - accuracy: 0.8894 - loss: 0.3552 - precision_2: 0.4640 - recall_2: 0.5764 - val_accuracy: 0.7994 - val_loss: 0.4852 - val_precision_2: 1.0000 - val_recall_2: 0.2006\n",
      "|| >> End of epoch 97 << ||\n",
      "187/187 - 1s - 3ms/step - accuracy: 0.8875 - loss: 0.3591 - precision_2: 0.4322 - recall_2: 0.5958 - val_accuracy: 0.7934 - val_loss: 0.5196 - val_precision_2: 1.0000 - val_recall_2: 0.2066\n",
      "|| >> End of epoch 98 << ||\n",
      "187/187 - 0s - 2ms/step - accuracy: 0.8872 - loss: 0.3565 - precision_2: 0.4581 - recall_2: 0.5760 - val_accuracy: 0.7979 - val_loss: 0.4939 - val_precision_2: 1.0000 - val_recall_2: 0.2021\n",
      "|| >> End of epoch 99 << ||\n",
      "187/187 - 1s - 3ms/step - accuracy: 0.8873 - loss: 0.3612 - precision_2: 0.4483 - recall_2: 0.5901 - val_accuracy: 0.8296 - val_loss: 0.4334 - val_precision_2: 1.0000 - val_recall_2: 0.1704\n",
      "|| >> End of epoch 100 << ||\n",
      "187/187 - 1s - 3ms/step - accuracy: 0.8868 - loss: 0.3576 - precision_2: 0.4406 - recall_2: 0.5852 - val_accuracy: 0.8401 - val_loss: 0.4061 - val_precision_2: 1.0000 - val_recall_2: 0.1599\n",
      "|| >> End of epoch 101 << ||\n",
      "187/187 - 1s - 3ms/step - accuracy: 0.8801 - loss: 0.3670 - precision_2: 0.4621 - recall_2: 0.5882 - val_accuracy: 0.8763 - val_loss: 0.3471 - val_precision_2: 1.0000 - val_recall_2: 0.1237\n",
      "|| >> End of epoch 102 << ||\n",
      "187/187 - 0s - 2ms/step - accuracy: 0.8887 - loss: 0.3543 - precision_2: 0.3730 - recall_2: 0.5827 - val_accuracy: 0.8235 - val_loss: 0.4659 - val_precision_2: 1.0000 - val_recall_2: 0.1765\n",
      "|| >> End of epoch 103 << ||\n",
      "187/187 - 0s - 2ms/step - accuracy: 0.8919 - loss: 0.3594 - precision_2: 0.4267 - recall_2: 0.5802 - val_accuracy: 0.8462 - val_loss: 0.4157 - val_precision_2: 1.0000 - val_recall_2: 0.1538\n",
      "|| >> End of epoch 104 << ||\n",
      "187/187 - 1s - 3ms/step - accuracy: 0.8895 - loss: 0.3576 - precision_2: 0.5069 - recall_2: 0.5851 - val_accuracy: 0.8477 - val_loss: 0.4014 - val_precision_2: 1.0000 - val_recall_2: 0.1523\n",
      "|| >> End of epoch 105 << ||\n",
      "187/187 - 0s - 2ms/step - accuracy: 0.8880 - loss: 0.3564 - precision_2: 0.4388 - recall_2: 0.5815 - val_accuracy: 0.8039 - val_loss: 0.4918 - val_precision_2: 1.0000 - val_recall_2: 0.1961\n",
      "|| >> End of epoch 106 << ||\n",
      "187/187 - 1s - 3ms/step - accuracy: 0.8872 - loss: 0.3558 - precision_2: 0.4678 - recall_2: 0.5707 - val_accuracy: 0.8145 - val_loss: 0.4993 - val_precision_2: 1.0000 - val_recall_2: 0.1855\n",
      "|| >> End of epoch 107 << ||\n",
      "187/187 - 0s - 2ms/step - accuracy: 0.8875 - loss: 0.3613 - precision_2: 0.4072 - recall_2: 0.5809 - val_accuracy: 0.8205 - val_loss: 0.4374 - val_precision_2: 1.0000 - val_recall_2: 0.1795\n",
      "|| >> End of epoch 108 << ||\n",
      "187/187 - 0s - 2ms/step - accuracy: 0.8877 - loss: 0.3581 - precision_2: 0.5065 - recall_2: 0.5856 - val_accuracy: 0.8462 - val_loss: 0.4102 - val_precision_2: 1.0000 - val_recall_2: 0.1538\n",
      "|| >> End of epoch 109 << ||\n",
      "187/187 - 1s - 3ms/step - accuracy: 0.8867 - loss: 0.3630 - precision_2: 0.4392 - recall_2: 0.5800 - val_accuracy: 0.8265 - val_loss: 0.4575 - val_precision_2: 1.0000 - val_recall_2: 0.1735\n",
      "|| >> End of epoch 110 << ||\n",
      "187/187 - 0s - 2ms/step - accuracy: 0.8852 - loss: 0.3691 - precision_2: 0.5208 - recall_2: 0.5941 - val_accuracy: 0.8416 - val_loss: 0.4288 - val_precision_2: 1.0000 - val_recall_2: 0.1584\n",
      "|| >> End of epoch 111 << ||\n",
      "187/187 - 1s - 3ms/step - accuracy: 0.8801 - loss: 0.3719 - precision_2: 0.4525 - recall_2: 0.5872 - val_accuracy: 0.8205 - val_loss: 0.4297 - val_precision_2: 1.0000 - val_recall_2: 0.1795\n",
      "|| >> End of epoch 112 << ||\n",
      "187/187 - 1s - 3ms/step - accuracy: 0.8821 - loss: 0.3697 - precision_2: 0.4559 - recall_2: 0.5848 - val_accuracy: 0.8401 - val_loss: 0.4048 - val_precision_2: 1.0000 - val_recall_2: 0.1599\n",
      "|| >> End of epoch 113 << ||\n",
      "187/187 - 1s - 3ms/step - accuracy: 0.8857 - loss: 0.3592 - precision_2: 0.4439 - recall_2: 0.5864 - val_accuracy: 0.8265 - val_loss: 0.4281 - val_precision_2: 1.0000 - val_recall_2: 0.1735\n",
      "|| >> End of epoch 114 << ||\n",
      "187/187 - 0s - 2ms/step - accuracy: 0.8793 - loss: 0.3708 - precision_2: 0.4154 - recall_2: 0.5926 - val_accuracy: 0.8160 - val_loss: 0.4721 - val_precision_2: 1.0000 - val_recall_2: 0.1840\n",
      "|| >> End of epoch 115 << ||\n",
      "187/187 - 0s - 3ms/step - accuracy: 0.8793 - loss: 0.3770 - precision_2: 0.3996 - recall_2: 0.5950 - val_accuracy: 0.8220 - val_loss: 0.4364 - val_precision_2: 1.0000 - val_recall_2: 0.1780\n",
      "|| >> End of epoch 116 << ||\n",
      "187/187 - 0s - 2ms/step - accuracy: 0.8857 - loss: 0.3622 - precision_2: 0.4220 - recall_2: 0.5677 - val_accuracy: 0.7903 - val_loss: 0.5111 - val_precision_2: 1.0000 - val_recall_2: 0.2097\n",
      "|| >> End of epoch 117 << ||\n",
      "187/187 - 0s - 3ms/step - accuracy: 0.8843 - loss: 0.3624 - precision_2: 0.4356 - recall_2: 0.5834 - val_accuracy: 0.8115 - val_loss: 0.4682 - val_precision_2: 1.0000 - val_recall_2: 0.1885\n",
      "|| >> End of epoch 118 << ||\n",
      "187/187 - 0s - 3ms/step - accuracy: 0.8877 - loss: 0.3582 - precision_2: 0.4185 - recall_2: 0.5810 - val_accuracy: 0.8311 - val_loss: 0.4107 - val_precision_2: 1.0000 - val_recall_2: 0.1689\n",
      "|| >> End of epoch 119 << ||\n",
      "187/187 - 0s - 3ms/step - accuracy: 0.8820 - loss: 0.3623 - precision_2: 0.4154 - recall_2: 0.5760 - val_accuracy: 0.8100 - val_loss: 0.4779 - val_precision_2: 1.0000 - val_recall_2: 0.1900\n",
      "|| >> End of epoch 120 << ||\n",
      "187/187 - 0s - 2ms/step - accuracy: 0.8890 - loss: 0.3633 - precision_2: 0.4799 - recall_2: 0.5896 - val_accuracy: 0.8281 - val_loss: 0.4309 - val_precision_2: 1.0000 - val_recall_2: 0.1719\n",
      "|| >> End of epoch 121 << ||\n",
      "187/187 - 1s - 3ms/step - accuracy: 0.8887 - loss: 0.3605 - precision_2: 0.4181 - recall_2: 0.5854 - val_accuracy: 0.8100 - val_loss: 0.4816 - val_precision_2: 1.0000 - val_recall_2: 0.1900\n",
      "|| >> End of epoch 122 << ||\n",
      "187/187 - 0s - 2ms/step - accuracy: 0.8863 - loss: 0.3649 - precision_2: 0.5123 - recall_2: 0.5944 - val_accuracy: 0.8069 - val_loss: 0.4865 - val_precision_2: 1.0000 - val_recall_2: 0.1931\n",
      "|| >> End of epoch 123 << ||\n",
      "187/187 - 0s - 3ms/step - accuracy: 0.8883 - loss: 0.3592 - precision_2: 0.4154 - recall_2: 0.5963 - val_accuracy: 0.8401 - val_loss: 0.4041 - val_precision_2: 1.0000 - val_recall_2: 0.1599\n",
      "|| >> End of epoch 124 << ||\n",
      "187/187 - 0s - 2ms/step - accuracy: 0.8899 - loss: 0.3572 - precision_2: 0.4633 - recall_2: 0.5790 - val_accuracy: 0.8130 - val_loss: 0.4473 - val_precision_2: 1.0000 - val_recall_2: 0.1870\n",
      "|| >> End of epoch 125 << ||\n",
      "187/187 - 0s - 2ms/step - accuracy: 0.8821 - loss: 0.3606 - precision_2: 0.4037 - recall_2: 0.5769 - val_accuracy: 0.8703 - val_loss: 0.3716 - val_precision_2: 1.0000 - val_recall_2: 0.1297\n",
      "|| >> End of epoch 126 << ||\n",
      "187/187 - 0s - 2ms/step - accuracy: 0.8892 - loss: 0.3619 - precision_2: 0.4079 - recall_2: 0.5700 - val_accuracy: 0.8552 - val_loss: 0.4017 - val_precision_2: 1.0000 - val_recall_2: 0.1448\n",
      "|| >> End of epoch 127 << ||\n",
      "187/187 - 0s - 2ms/step - accuracy: 0.8837 - loss: 0.3681 - precision_2: 0.3884 - recall_2: 0.5896 - val_accuracy: 0.8250 - val_loss: 0.4331 - val_precision_2: 1.0000 - val_recall_2: 0.1750\n",
      "|| >> End of epoch 128 << ||\n",
      "187/187 - 0s - 3ms/step - accuracy: 0.8878 - loss: 0.3582 - precision_2: 0.4680 - recall_2: 0.5874 - val_accuracy: 0.8069 - val_loss: 0.5175 - val_precision_2: 1.0000 - val_recall_2: 0.1931\n",
      "|| >> End of epoch 129 << ||\n",
      "187/187 - 0s - 2ms/step - accuracy: 0.8915 - loss: 0.3545 - precision_2: 0.4597 - recall_2: 0.5771 - val_accuracy: 0.8552 - val_loss: 0.3788 - val_precision_2: 1.0000 - val_recall_2: 0.1448\n",
      "|| >> End of epoch 130 << ||\n",
      "187/187 - 0s - 2ms/step - accuracy: 0.8852 - loss: 0.3645 - precision_2: 0.4282 - recall_2: 0.5808 - val_accuracy: 0.8265 - val_loss: 0.4252 - val_precision_2: 1.0000 - val_recall_2: 0.1735\n",
      "|| >> End of epoch 131 << ||\n",
      "187/187 - 0s - 2ms/step - accuracy: 0.8806 - loss: 0.3660 - precision_2: 0.3913 - recall_2: 0.5821 - val_accuracy: 0.8341 - val_loss: 0.4365 - val_precision_2: 1.0000 - val_recall_2: 0.1659\n",
      "|| >> End of epoch 132 << ||\n",
      "187/187 - 0s - 2ms/step - accuracy: 0.8810 - loss: 0.3747 - precision_2: 0.3868 - recall_2: 0.5845 - val_accuracy: 0.8296 - val_loss: 0.4172 - val_precision_2: 1.0000 - val_recall_2: 0.1704\n",
      "|| >> End of epoch 133 << ||\n",
      "187/187 - 0s - 2ms/step - accuracy: 0.8838 - loss: 0.3693 - precision_2: 0.5097 - recall_2: 0.5800 - val_accuracy: 0.7964 - val_loss: 0.4872 - val_precision_2: 1.0000 - val_recall_2: 0.2036\n",
      "|| >> End of epoch 134 << ||\n",
      "187/187 - 0s - 2ms/step - accuracy: 0.8842 - loss: 0.3634 - precision_2: 0.4715 - recall_2: 0.5833 - val_accuracy: 0.7994 - val_loss: 0.4897 - val_precision_2: 1.0000 - val_recall_2: 0.2006\n",
      "|| >> End of epoch 135 << ||\n",
      "187/187 - 0s - 2ms/step - accuracy: 0.8818 - loss: 0.3574 - precision_2: 0.3897 - recall_2: 0.5697 - val_accuracy: 0.8627 - val_loss: 0.3694 - val_precision_2: 1.0000 - val_recall_2: 0.1373\n",
      "|| >> End of epoch 136 << ||\n",
      "187/187 - 0s - 2ms/step - accuracy: 0.8820 - loss: 0.3633 - precision_2: 0.4553 - recall_2: 0.5915 - val_accuracy: 0.8401 - val_loss: 0.4084 - val_precision_2: 1.0000 - val_recall_2: 0.1599\n",
      "|| >> End of epoch 137 << ||\n",
      "187/187 - 0s - 3ms/step - accuracy: 0.8855 - loss: 0.3621 - precision_2: 0.4393 - recall_2: 0.5881 - val_accuracy: 0.8356 - val_loss: 0.4261 - val_precision_2: 1.0000 - val_recall_2: 0.1644\n",
      "|| >> End of epoch 138 << ||\n",
      "187/187 - 1s - 3ms/step - accuracy: 0.8867 - loss: 0.3599 - precision_2: 0.4042 - recall_2: 0.5930 - val_accuracy: 0.7979 - val_loss: 0.5215 - val_precision_2: 1.0000 - val_recall_2: 0.2021\n",
      "|| >> End of epoch 139 << ||\n",
      "187/187 - 0s - 2ms/step - accuracy: 0.8895 - loss: 0.3579 - precision_2: 0.3740 - recall_2: 0.5803 - val_accuracy: 0.8688 - val_loss: 0.3406 - val_precision_2: 1.0000 - val_recall_2: 0.1312\n",
      "|| >> End of epoch 140 << ||\n",
      "187/187 - 0s - 2ms/step - accuracy: 0.8885 - loss: 0.3588 - precision_2: 0.4483 - recall_2: 0.5785 - val_accuracy: 0.7919 - val_loss: 0.4711 - val_precision_2: 1.0000 - val_recall_2: 0.2081\n",
      "|| >> End of epoch 141 << ||\n",
      "187/187 - 0s - 2ms/step - accuracy: 0.8832 - loss: 0.3642 - precision_2: 0.4769 - recall_2: 0.5791 - val_accuracy: 0.8341 - val_loss: 0.4221 - val_precision_2: 1.0000 - val_recall_2: 0.1659\n",
      "|| >> End of epoch 142 << ||\n",
      "187/187 - 0s - 2ms/step - accuracy: 0.8894 - loss: 0.3533 - precision_2: 0.5302 - recall_2: 0.5839 - val_accuracy: 0.7873 - val_loss: 0.5123 - val_precision_2: 1.0000 - val_recall_2: 0.2127\n",
      "|| >> End of epoch 143 << ||\n",
      "187/187 - 0s - 3ms/step - accuracy: 0.8825 - loss: 0.3697 - precision_2: 0.4970 - recall_2: 0.5918 - val_accuracy: 0.7858 - val_loss: 0.4912 - val_precision_2: 1.0000 - val_recall_2: 0.2142\n",
      "|| >> End of epoch 144 << ||\n",
      "187/187 - 0s - 2ms/step - accuracy: 0.8902 - loss: 0.3571 - precision_2: 0.3906 - recall_2: 0.5779 - val_accuracy: 0.8537 - val_loss: 0.3927 - val_precision_2: 1.0000 - val_recall_2: 0.1463\n",
      "|| >> End of epoch 145 << ||\n",
      "187/187 - 0s - 2ms/step - accuracy: 0.8873 - loss: 0.3552 - precision_2: 0.4681 - recall_2: 0.5728 - val_accuracy: 0.8250 - val_loss: 0.4370 - val_precision_2: 1.0000 - val_recall_2: 0.1750\n",
      "|| >> End of epoch 146 << ||\n",
      "187/187 - 0s - 2ms/step - accuracy: 0.8882 - loss: 0.3617 - precision_2: 0.4165 - recall_2: 0.5744 - val_accuracy: 0.8401 - val_loss: 0.3961 - val_precision_2: 1.0000 - val_recall_2: 0.1599\n",
      "|| >> End of epoch 147 << ||\n",
      "187/187 - 0s - 3ms/step - accuracy: 0.8845 - loss: 0.3661 - precision_2: 0.4044 - recall_2: 0.5743 - val_accuracy: 0.7903 - val_loss: 0.4977 - val_precision_2: 1.0000 - val_recall_2: 0.2097\n",
      "|| >> End of epoch 148 << ||\n",
      "187/187 - 0s - 2ms/step - accuracy: 0.8907 - loss: 0.3524 - precision_2: 0.4167 - recall_2: 0.5854 - val_accuracy: 0.8296 - val_loss: 0.4453 - val_precision_2: 1.0000 - val_recall_2: 0.1704\n",
      "|| >> End of epoch 149 << ||\n"
     ]
    }
   ],
   "source": [
    "from sklearn.model_selection import train_test_split\n",
    "import numpy as np\n",
    "\n",
    "num_of_epochs = 150\n",
    "\n",
    "X_train, X_test, Y_train, Y_test = train_test_split(X, Y, test_size=0.1) \n",
    "\n",
    "X_class_0 = X_train[ Y_train == 0 ]\n",
    "Y_class_0 = Y_train[ Y_train == 0 ]\n",
    "\n",
    "num_of_class_0 = len(Y_class_0)\n",
    "\n",
    "XY = np.concatenate((X, Y.reshape(-1,1)), axis=1)\n",
    "\n",
    "for i in range(num_of_epochs):\n",
    "    XY = XY[ XY[:, -1] == 1 ]\n",
    "    XY_sels = np.random.choice(XY.shape[0], num_of_class_0)\n",
    "    XY_class_1 = XY[ XY_sels ]\n",
    "    X_class_1 = XY_class_1[:, :-1]\n",
    "    Y_class_1 = XY_class_1[:, -1]\n",
    "    X_batch = np.concatenate((X_class_0, X_class_1), axis=0)\n",
    "    Y_batch = np.concatenate((Y_class_0, Y_class_1), axis=0)\n",
    "    model.fit(X_batch, \n",
    "              Y_batch, \n",
    "              epochs=1, \n",
    "              validation_split=0.1,\n",
    "              verbose=2)\n",
    "    print(f\"|| >> End of epoch {i} << ||\")"
   ]
  },
  {
   "cell_type": "code",
   "execution_count": 72,
   "metadata": {},
   "outputs": [
    {
     "name": "stdout",
     "output_type": "stream",
     "text": [
      "\u001b[1m206/206\u001b[0m \u001b[32m━━━━━━━━━━━━━━━━━━━━\u001b[0m\u001b[37m\u001b[0m \u001b[1m0s\u001b[0m 784us/step\n",
      "||>> Precision:  0.4042672655811342\n",
      "||>> Recall:  0.9574468085106383\n",
      "||>> F1:  0.568495854717726\n",
      "||>> Accuracy:  0.8340922890103218\n",
      "||>> AUC:  0.9451496944861679\n",
      "||>> AUPRC:  0.6538045951015488\n"
     ]
    },
    {
     "data": {
      "image/png": "[encoded data removed]",
      "text/plain": [
       "<Figure size 640x480 with 1 Axes>"
      ]
     },
     "metadata": {},
     "output_type": "display_data"
    }
   ],
   "source": [
    "model_name = \"NN_balaced_1\"\n",
    "save_model_and_performance(model, X, Y, model_name)"
   ]
  },
  {
   "cell_type": "code",
   "execution_count": null,
   "metadata": {},
   "outputs": [],
   "source": []
  }
 ],
 "metadata": {
  "kernelspec": {
   "display_name": ".venv",
   "language": "python",
   "name": "python3"
  },
  "language_info": {
   "codemirror_mode": {
    "name": "ipython",
    "version": 3
   },
   "file_extension": ".py",
   "mimetype": "text/x-python",
   "name": "python",
   "nbconvert_exporter": "python",
   "pygments_lexer": "ipython3",
   "version": "3.10.11"
  }
 },
 "nbformat": 4,
 "nbformat_minor": 2
}
